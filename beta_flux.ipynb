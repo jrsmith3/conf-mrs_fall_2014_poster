{
 "metadata": {
  "name": "",
  "signature": "sha256:546307cbeefc12409540bc97ab4503146c867306d679f04857661ac61e4a462d"
 },
 "nbformat": 3,
 "nbformat_minor": 0,
 "worksheets": [
  {
   "cells": [
    {
     "cell_type": "markdown",
     "metadata": {},
     "source": [
      "Calculation of beta flux vs. material parameters\n",
      "================================================\n",
      "The objective is to determine a plausible value of beta flux by calculating an upper bound for a material. Radioactivity, A,  is measured in [curies](https://en.wikipedia.org/wiki/Curie) and [becquerels](https://en.wikipedia.org/wiki/Becquerel), but these quantities account for the radioactivity for a gross sample. In other words, double the sample and double the radioactivity. I am interested in the highest value of beta electron flux, and so I need to determine the specific activity, $S_{A}$, which is the activity per unit material. In this case,\n",
      "\n",
      "$S_{A} = A/m$\n",
      "\n",
      "where $m$ is the mass of the specimen.\n",
      "\n",
      "Derivation\n",
      "----------\n",
      "Consider a slab of radioisotope material of thickness $h$, length $l$, and width $w$. This slab is sufficiently thin such that self-absorption is negligible. I need to find the beta flux, $\\Phi$, of this material. The density,\n",
      "\n",
      "$\\rho = m/V$\n",
      "\n",
      "is straightforward to look up for a material and is the ratio of mass to volume, $V$, of the material. Multiply the specific activity times density\n",
      "\n",
      "$S_{A} \\rho = \\frac{A}{m} \\frac{m}{V}$\n",
      "$S_{A} \\rho = \\frac{A}{V}$\n",
      "\n",
      "Multiplying this result by $\\frac{h}{2}$ should approximate the flux assuming negligible normal self-absorption and half of the betas leave the top and the other half leave the bottom.\n",
      "\n",
      "$\\Phi = \\frac{S_{A} \\cdot \\rho \\cdot h}{2}$\n",
      "\n",
      "\n",
      "Know\n",
      "\n",
      "$A = N \\frac{ln(2)}{t_{1/2}}$\n",
      "\n",
      "Where $N$ is the number of atoms of radioisotope, and $t_{1/2}$ is the half-life of the isotope. Dividing by the mass yields\n",
      "\n",
      "$\\frac{A}{m} = \\frac{N}{m} \\frac{ln(2)}{t_{1/2}}$\n",
      "$S_{A} = \\frac{N_{A}}{M} \\frac{ln(2)}{t_{1/2}}$\n",
      "\n",
      "where $M$ is the molar mass of the material. The value of this quantity is given by the [mass number](https://en.wikipedia.org/wiki/Mass_number) of the material in grams per mole. The mass number is simply the total number of neutrons. So for 63-Ni, the molar mass would be 63g/mol. The quantity $N_{A}$ is [Avogadro's constant](https://en.wikipedia.org/wiki/Avogadro_constant) and appears in order for the units to be in number per unit area per unit time as opposed to moles per unit area per unit time.\n",
      "\n",
      "Finally, we can substitute to yield\n",
      "\n",
      "$\\Phi = \\frac{\\ln(2) \\cdot \\rho \\cdot h \\cdot N_{A}}{2 \\cdot M \\cdot t_{1/2}}$\n",
      "\n",
      "\n",
      "See also\n",
      "========\n",
      "Very helpful [List of nuclides](https://en.wikipedia.org/wiki/List_of_nuclides)"
     ]
    },
    {
     "cell_type": "code",
     "collapsed": false,
     "input": [
      "from astropy import units, constants\n",
      "import numpy as np\n",
      "\n",
      "def calc_flux(density, thickness, molar_mass, half_life):\n",
      "    num = np.log(2) * density * thickness * constants.N_A\n",
      "    denom = 2 * molar_mass * half_life\n",
      "    \n",
      "    return (num/denom).to(\"1/(cm2 * s)\")"
     ],
     "language": "python",
     "metadata": {},
     "outputs": [],
     "prompt_number": 1
    },
    {
     "cell_type": "code",
     "collapsed": false,
     "input": [
      "# Constants not specific to a material\n",
      "# ====================================\n",
      "thickness = 10. * units.um"
     ],
     "language": "python",
     "metadata": {},
     "outputs": [],
     "prompt_number": 16
    },
    {
     "cell_type": "markdown",
     "metadata": {},
     "source": [
      "63-Ni\n",
      "====="
     ]
    },
    {
     "cell_type": "code",
     "collapsed": false,
     "input": [
      "density = units.Quantity(8.908, \"g/cm3\")\n",
      "molar_mass = units.Quantity(63, \"g/mol\")\n",
      "half_life = units.Quantity(3.159e9, \"s\")"
     ],
     "language": "python",
     "metadata": {},
     "outputs": [],
     "prompt_number": 17
    },
    {
     "cell_type": "code",
     "collapsed": false,
     "input": [
      "flux = calc_flux(density, thickness, molar_mass, half_life)\n",
      "print flux\n",
      "print np.log10(flux.value)"
     ],
     "language": "python",
     "metadata": {},
     "outputs": [
      {
       "output_type": "stream",
       "stream": "stdout",
       "text": [
        "9341926348.33 1 / (cm2 s)\n",
        "9.97043643899\n"
       ]
      }
     ],
     "prompt_number": 18
    },
    {
     "cell_type": "markdown",
     "metadata": {},
     "source": [
      "Conclusion\n",
      "----------\n",
      "There really isn't a physically plausible way to get a flux higher than about 1e10 cm^{-2} s^{-1}."
     ]
    },
    {
     "cell_type": "markdown",
     "metadata": {},
     "source": [
      "90-Sr\n",
      "====="
     ]
    },
    {
     "cell_type": "code",
     "collapsed": false,
     "input": [
      "density = units.Quantity(2.64, \"g/cm3\")\n",
      "molar_mass = units.Quantity(90, \"g/mol\")\n",
      "half_life = units.Quantity(9.120e8, \"s\")"
     ],
     "language": "python",
     "metadata": {},
     "outputs": [],
     "prompt_number": 19
    },
    {
     "cell_type": "code",
     "collapsed": false,
     "input": [
      "flux = calc_flux(density, thickness, molar_mass, half_life)\n",
      "print flux\n",
      "print np.log10(flux.value)"
     ],
     "language": "python",
     "metadata": {},
     "outputs": [
      {
       "output_type": "stream",
       "stream": "stdout",
       "text": [
        "6712943394.31 1 / (cm2 s)\n",
        "9.82691298509\n"
       ]
      }
     ],
     "prompt_number": 20
    },
    {
     "cell_type": "markdown",
     "metadata": {},
     "source": [
      "Conclusion\n",
      "----------\n",
      "In fact, 90-Sr isn't much different from 63-Ni in terms of half life (4 times as active, but not 10 or 100). The results here are about the same."
     ]
    },
    {
     "cell_type": "markdown",
     "metadata": {},
     "source": [
      "3-H\n",
      "==="
     ]
    },
    {
     "cell_type": "code",
     "collapsed": false,
     "input": [
      "density = units.Quantity(0.08, \"g/cm3\")\n",
      "molar_mass = units.Quantity(3, \"g/mol\")\n",
      "half_life = units.Quantity(3.88e8, \"s\")"
     ],
     "language": "python",
     "metadata": {},
     "outputs": [],
     "prompt_number": 21
    },
    {
     "cell_type": "code",
     "collapsed": false,
     "input": [
      "flux = calc_flux(density, thickness, molar_mass, half_life)\n",
      "print flux\n",
      "print np.log10(flux.value)"
     ],
     "language": "python",
     "metadata": {},
     "outputs": [
      {
       "output_type": "stream",
       "stream": "stdout",
       "text": [
        "14344433869.7 1 / (cm2 s)\n",
        "10.1566834127\n"
       ]
      }
     ],
     "prompt_number": 22
    },
    {
     "cell_type": "markdown",
     "metadata": {},
     "source": [
      "Conclusion\n",
      "----------\n",
      "I used the value for solid hydrogen. The upper bound for flux is still about 1e10 cm^{-2} s^{-1}."
     ]
    },
    {
     "cell_type": "markdown",
     "metadata": {},
     "source": [
      "131-I\n",
      "====="
     ]
    },
    {
     "cell_type": "code",
     "collapsed": false,
     "input": [
      "density = units.Quantity(4.9, \"g/cm3\")\n",
      "molar_mass = units.Quantity(131, \"g/mol\")\n",
      "half_life = units.Quantity(6.93e5, \"s\")"
     ],
     "language": "python",
     "metadata": {},
     "outputs": [],
     "prompt_number": 25
    },
    {
     "cell_type": "code",
     "collapsed": false,
     "input": [
      "flux = calc_flux(density, thickness, molar_mass, half_life)\n",
      "print flux\n",
      "print np.log10(flux.value)"
     ],
     "language": "python",
     "metadata": {},
     "outputs": [
      {
       "output_type": "stream",
       "stream": "stdout",
       "text": [
        "1.12651753384e+13 1 / (cm2 s)\n",
        "13.0517379557\n"
       ]
      }
     ],
     "prompt_number": 26
    },
    {
     "cell_type": "markdown",
     "metadata": {},
     "source": [
      "Conclusion\n",
      "----------\n",
      "With the caveat that I'm not a nuclear physicist or engineer, this material seems ridiculous to consider. The activity is high, but the half-life is only a few days. Any TEC based on this material would need to be re-filled every week or so. I only get about 3 orders of magnitude better activity from this material."
     ]
    },
    {
     "cell_type": "code",
     "collapsed": false,
     "input": [],
     "language": "python",
     "metadata": {},
     "outputs": []
    }
   ],
   "metadata": {}
  }
 ]
}